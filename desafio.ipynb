{
  "nbformat": 4,
  "nbformat_minor": 0,
  "metadata": {
    "colab": {
      "name": "desafio.ipynb",
      "provenance": [],
      "collapsed_sections": []
    },
    "kernelspec": {
      "name": "python3",
      "display_name": "Python 3"
    }
  },
  "cells": [
    {
      "cell_type": "code",
      "metadata": {
        "id": "udaW3HMm7ri_",
        "colab_type": "code",
        "colab": {}
      },
      "source": [
        "## Gostaria de deixar alguns adendos , sobre a tratativa do desafio técnico:\n",
        "## Toda estrutura foi criada na Nuvem pela ferramenta Google Colab , a extensão de arquivos é .IPYNB\n",
        "## Onde alguns imports são da própria ferramenta. Não iram executar diretamente no Python.\n",
        "## O google solicita o authorization code , para montar a partição do Google Drive , para acesso aos arquivos\n",
        "## O comando spark-subit não irá se aplicar neste caso, para execução do código.\n",
        "## Qualquer dúvida , fico a disposição.\n",
        "## Att. Bruno Milhati Cavallini\n",
        "\n",
        "\n",
        "\n"
      ],
      "execution_count": 0,
      "outputs": []
    },
    {
      "cell_type": "code",
      "metadata": {
        "id": "HcGGx8UiXMzP",
        "colab_type": "code",
        "colab": {}
      },
      "source": [
        "# Download do Pacote .Tgz do Spark\n",
        "!wget -q http://www-eu.apache.org/dist/spark/spark-2.4.4/spark-2.4.4-bin-hadoop2.7.tgz"
      ],
      "execution_count": 0,
      "outputs": []
    },
    {
      "cell_type": "code",
      "metadata": {
        "colab_type": "code",
        "cellView": "code",
        "id": "194iEKL8XaXy",
        "outputId": "a0b6eb3e-6aeb-45f1-af1c-e1c2a7c21c6e",
        "colab": {
          "base_uri": "https://localhost:8080/",
          "height": 122
        }
      },
      "source": [
        "#Instalação Java-8 , instalação Spark , pacotes findsaprk , collections\n",
        "!apt-get install openjdk-8-jdk-headless -qq > /dev/null\n",
        "!tar xf spark-2.4.4-bin-hadoop2.7.tgz\n",
        "!pip install -q findspark\n",
        "!pip install collections-extended"
      ],
      "execution_count": 0,
      "outputs": [
        {
          "output_type": "stream",
          "text": [
            "Collecting collections-extended\n",
            "  Downloading https://files.pythonhosted.org/packages/e6/bb/917ec8f030be3da7a4610f98dc6fc46a2d701433a1e6f82905f0cbd1be3f/collections_extended-1.0.2-py2.py3-none-any.whl\n",
            "Requirement already satisfied: setuptools in /usr/local/lib/python3.6/dist-packages (from collections-extended) (41.6.0)\n",
            "Installing collected packages: collections-extended\n",
            "Successfully installed collections-extended-1.0.2\n"
          ],
          "name": "stdout"
        }
      ]
    },
    {
      "cell_type": "code",
      "metadata": {
        "id": "vctO5cJZUmwm",
        "colab_type": "code",
        "colab": {}
      },
      "source": [
        "## Setando variaveis de ambiente \n",
        "import os\n",
        "os.environ[\"JAVA_HOME\"] = \"/usr/lib/jvm/java-8-openjdk-amd64\"\n",
        "os.environ[\"SPARK_HOME\"] = \"/content/spark-2.4.4-bin-hadoop2.7\""
      ],
      "execution_count": 0,
      "outputs": []
    },
    {
      "cell_type": "code",
      "metadata": {
        "id": "76WJVozRX_OY",
        "colab_type": "code",
        "colab": {}
      },
      "source": [
        "# imports\n",
        "import findspark\n",
        "findspark.init()\n",
        "import pandas as pd\n",
        "import collections\n",
        "from pyspark.sql import SparkSession\n",
        "from pyspark import SparkContext\n",
        "from pyspark import SparkConf\n",
        "from pyspark.sql.functions import regexp_extract\n",
        "from pyspark.sql.functions import col\n",
        "from pyspark.sql.functions import sum as spark_sum\n",
        "from pyspark.sql.functions import unix_timestamp, from_unixtime\n",
        "\n",
        "# SparkContext\n",
        "spark = SparkSession.builder.master(\"local[*]\").getOrCreate()\n",
        "sc = SparkContext.getOrCreate()\n"
      ],
      "execution_count": 0,
      "outputs": []
    },
    {
      "cell_type": "code",
      "metadata": {
        "id": "IR5wrkLTaR9j",
        "colab_type": "code",
        "outputId": "47a51f0b-3801-49d9-de6f-e191ce8cd0ce",
        "colab": {
          "base_uri": "https://localhost:8080/",
          "height": 122
        }
      },
      "source": [
        "# Leitura de arquivos do Google Drive\n",
        "# Ao executar o codigo o google solicita o authorization code , para montar a partição do Google Drive \n",
        "# Exemplo: 4/tQFvkBi4HJjeLRJMCwMOAkXIGBeMeqmpA15ir6t2i-trbmeMLYZ-lxc \n",
        "\n",
        "from google.colab import drive \n",
        "from google.colab import files\n",
        "drive.mount('/content/gdrive')\n",
        "\n",
        "file_loc1 = 'gdrive/My Drive/NASA_access_log_Jul95.gz'\n",
        "file_loc2 = 'gdrive/My Drive/NASA_access_log_Aug95.gz'"
      ],
      "execution_count": 0,
      "outputs": [
        {
          "output_type": "stream",
          "text": [
            "Go to this URL in a browser: https://accounts.google.com/o/oauth2/auth?client_id=947318989803-6bn6qk8qdgf4n4g3pfee6491hc0brc4i.apps.googleusercontent.com&redirect_uri=urn%3aietf%3awg%3aoauth%3a2.0%3aoob&response_type=code&scope=email%20https%3a%2f%2fwww.googleapis.com%2fauth%2fdocs.test%20https%3a%2f%2fwww.googleapis.com%2fauth%2fdrive%20https%3a%2f%2fwww.googleapis.com%2fauth%2fdrive.photos.readonly%20https%3a%2f%2fwww.googleapis.com%2fauth%2fpeopleapi.readonly\n",
            "\n",
            "Enter your authorization code:\n",
            "··········\n",
            "Mounted at /content/gdrive\n"
          ],
          "name": "stdout"
        }
      ]
    },
    {
      "cell_type": "code",
      "metadata": {
        "id": "0iuDGPNZgkOC",
        "colab_type": "code",
        "colab": {}
      },
      "source": [
        "# Rdd Texto\n",
        "linesj = sc.textFile(file_loc1)\n",
        "linesa = sc.textFile(file_loc2)\n"
      ],
      "execution_count": 0,
      "outputs": []
    },
    {
      "cell_type": "code",
      "metadata": {
        "id": "bYTCC4-zyihN",
        "colab_type": "code",
        "outputId": "dfcecf3b-4703-4854-9e0b-eba6e1b0a47a",
        "colab": {
          "base_uri": "https://localhost:8080/",
          "height": 51
        }
      },
      "source": [
        "## Número de hosts únicos.\n",
        "Julho_count = linesj.flatMap(lambda line: line.split(' ')[0]).distinct().count()\n",
        "agosto_count = linesa.flatMap(lambda line: line.split(' ')[0]).distinct().count()\n",
        "print('Numero de Hosts unicos em julho: %s' % Julho_count)\n",
        "print('Numero de Hosts unicos em agosto: %s' % agosto_count)"
      ],
      "execution_count": 0,
      "outputs": [
        {
          "output_type": "stream",
          "text": [
            "Numero de Hosts unicos em julho: 55\n",
            "Numero de Hosts unicos em agosto: 53\n"
          ],
          "name": "stdout"
        }
      ]
    },
    {
      "cell_type": "code",
      "metadata": {
        "id": "COQUMGvrMqzS",
        "colab_type": "code",
        "outputId": "22d51204-c4e7-4c08-bf87-04eae1a50457",
        "colab": {
          "base_uri": "https://localhost:8080/",
          "height": 51
        }
      },
      "source": [
        "##O total de erros 404.\n",
        "j404j = linesj.filter(lambda x: 'HTTP/1.0\" 404' in x).count()\n",
        "j404a = linesa.filter(lambda x: 'HTTP/1.0\" 404' in x).count()\n",
        "print('O total de erros 404 ocorridos em julho: %s' % j404j)\n",
        "print('O total de erros 404 ocorridos em agosto: %s' % j404a)\n"
      ],
      "execution_count": 0,
      "outputs": [
        {
          "output_type": "stream",
          "text": [
            "O total de erros 404 ocorridos em julho: 10754\n",
            "O total de erros 404 ocorridos em agosto: 9944\n"
          ],
          "name": "stdout"
        }
      ]
    },
    {
      "cell_type": "code",
      "metadata": {
        "id": "dc-vZGeOBPcU",
        "colab_type": "code",
        "colab": {}
      },
      "source": [
        "# DataFrame\n",
        "df1 = spark.read.text(file_loc1)\n",
        "df2 = spark.read.text(file_loc2)"
      ],
      "execution_count": 0,
      "outputs": []
    },
    {
      "cell_type": "code",
      "metadata": {
        "id": "pJUyloXiSANu",
        "colab_type": "code",
        "colab": {}
      },
      "source": [
        "## Expressão Regular\n",
        "re_host = r'(^\\S+\\.[\\S+\\.]+\\S+)\\s' #Host\n",
        "re_timestamp = r'\\[(\\d{2}/\\w{3}/\\d{4}:\\d{2}:\\d{2}:\\d{2} -\\d{4})]' # Timestamp\n",
        "re_url = r'\\\"(\\S+)\\s(\\S+)\\s*(\\S*)\\\"' #url -Requisição \n",
        "re_codigo = r'\\s(\\d{3})\\s' # codigo http\n",
        "re_bytes = r'\\s(\\d+)$' # bytes"
      ],
      "execution_count": 0,
      "outputs": []
    },
    {
      "cell_type": "code",
      "metadata": {
        "id": "itJjk14fYLPN",
        "colab_type": "code",
        "colab": {}
      },
      "source": [
        "sql = df1.select(regexp_extract('value', re_host, 1).alias('host'),\n",
        "                         regexp_extract('value', re_timestamp, 1).alias('timestamp'),\n",
        "                         regexp_extract('value', re_url, 2).alias('url'),\n",
        "                         regexp_extract('value', re_codigo, 1).cast('integer').alias('codigo'),\n",
        "                         regexp_extract('value', re_bytes, 1).cast('integer').alias('bytes'))"
      ],
      "execution_count": 0,
      "outputs": []
    },
    {
      "cell_type": "code",
      "metadata": {
        "id": "F6H9iDiiE6id",
        "colab_type": "code",
        "colab": {}
      },
      "source": [
        "sql2 = df2.select(regexp_extract('value', re_host, 1).alias('host'),\n",
        "                         regexp_extract('value', re_timestamp, 1).alias('timestamp'),\n",
        "                         regexp_extract('value', re_url, 2).alias('url'),\n",
        "                         regexp_extract('value', re_codigo, 1).cast('integer').alias('codigo'),\n",
        "                         regexp_extract('value', re_bytes, 1).cast('integer').alias('bytes'))"
      ],
      "execution_count": 0,
      "outputs": []
    },
    {
      "cell_type": "code",
      "metadata": {
        "id": "OXQVm0N_-Lx_",
        "colab_type": "code",
        "colab": {}
      },
      "source": [
        "df1.show(20, truncate=False)"
      ],
      "execution_count": 0,
      "outputs": []
    },
    {
      "cell_type": "code",
      "metadata": {
        "id": "rj_cNCUw-QSA",
        "colab_type": "code",
        "colab": {}
      },
      "source": [
        "sql.show()"
      ],
      "execution_count": 0,
      "outputs": []
    },
    {
      "cell_type": "code",
      "metadata": {
        "id": "ju81tGRS_SEn",
        "colab_type": "code",
        "colab": {}
      },
      "source": [
        "##1. Número de hosts únicos. Julho e Agosto\n",
        "##2. O total de erros 404. Julho e Agosto\n",
        "##3. Os 5 URLs que mais causaram erro 404. Julho e Agosto\n",
        "##4. Quantidade de erros 404 por dia. Julho e Agosto\n",
        "##5. O total de bytes retornados.Julho e Agosto "
      ],
      "execution_count": 0,
      "outputs": []
    },
    {
      "cell_type": "code",
      "metadata": {
        "id": "fl5LMYIQ5CdH",
        "colab_type": "code",
        "colab": {}
      },
      "source": [
        "sql.groupBy('host').count().filter('count = 1').select('host').show()\n",
        "sql2.groupBy('host').count().filter('count = 1').select('host').show()"
      ],
      "execution_count": 0,
      "outputs": []
    },
    {
      "cell_type": "code",
      "metadata": {
        "id": "orEuyT8s5VvM",
        "colab_type": "code",
        "colab": {}
      },
      "source": [
        "sql.groupBy('codigo').count().filter('codigo = \"404\"').show()\n",
        "sql2.groupBy('codigo').count().filter('codigo = \"404\"').show()"
      ],
      "execution_count": 0,
      "outputs": []
    },
    {
      "cell_type": "code",
      "metadata": {
        "id": "yaSfW_9t56PQ",
        "colab_type": "code",
        "colab": {}
      },
      "source": [
        "sql.filter('codigo = \"404\"').groupBy('url').count().sort(col(\"count\").desc()).show(5, truncate=False)\n",
        "sql2.filter('codigo = \"404\"').groupBy('url').count().sort(col(\"count\").desc()).show(5, truncate=False)"
      ],
      "execution_count": 0,
      "outputs": []
    },
    {
      "cell_type": "code",
      "metadata": {
        "id": "J0bzI2Zz6jEO",
        "colab_type": "code",
        "colab": {}
      },
      "source": [
        "sql.filter('codigo = \"404\"').groupBy(sql.timestamp.substr(1,11).alias('day')).count().show()\n",
        "sql2.filter('codigo = \"404\"').groupBy(sql2.timestamp.substr(1,11).alias('day')).count().show()"
      ],
      "execution_count": 0,
      "outputs": []
    },
    {
      "cell_type": "code",
      "metadata": {
        "id": "uDY2JFYM7LGp",
        "colab_type": "code",
        "colab": {}
      },
      "source": [
        "sql.select('bytes').groupBy().sum().show()\n",
        "sql2.select('bytes').groupBy().sum().show()"
      ],
      "execution_count": 0,
      "outputs": []
    },
    {
      "cell_type": "code",
      "metadata": {
        "id": "QwNC46mYNORA",
        "colab_type": "code",
        "outputId": "fdd3ceb0-9044-4a6e-e074-7acb37adf4e3",
        "colab": {
          "base_uri": "https://localhost:8080/",
          "height": 136
        }
      },
      "source": [
        "! git clone https://github.com/souvik3333/Testing-and-Debugging-Tools \n"
      ],
      "execution_count": 0,
      "outputs": [
        {
          "output_type": "stream",
          "text": [
            "Cloning into 'Testing-and-Debugging-Tools'...\n",
            "remote: Enumerating objects: 84, done.\u001b[K\n",
            "remote: Counting objects: 100% (84/84), done.\u001b[K\n",
            "remote: Compressing objects: 100% (69/69), done.\u001b[K\n",
            "remote: Total 247 (delta 24), reused 8 (delta 2), pack-reused 163\u001b[K\n",
            "Receiving objects: 100% (247/247), 28.47 MiB | 26.12 MiB/s, done.\n",
            "Resolving deltas: 100% (48/48), done.\n"
          ],
          "name": "stdout"
        }
      ]
    }
  ]
}